{
 "cells": [
  {
   "cell_type": "markdown",
   "metadata": {},
   "source": [
    "# Network flow optimization model\n",
    "\n",
    "## Sets & Subsets\n",
    "\n",
    "* $N$: Set of nodes in the network, i $\\in$ {0,1,…,N} \n",
    "\n",
    "* $A$: Set of arcs in the network, k $\\in$ {0,1,…,A}\n",
    "\n",
    "* $S$ $\\subset N$: Subset of nodes that represent the beginning of the network (source), s $\\in$ {0,1,…,S}\n",
    "\n",
    "* $T$ $\\subset N$: Subset of nodes that represent the end of the network (sink), t $\\in$ {0,1,…,T}\n",
    "\n",
    "## Parameters\n",
    "\n",
    "#### Node's parameters\n",
    "\n",
    "* $l^{n}_{i}$: Is the lower storing capacity for node ${i}$, $\\forall i \\in N$\n",
    "\n",
    "* $u^{n}_{i}$: Is the upper storing capacity for node ${i}$, $\\forall i \\in N$\n",
    "\n",
    "* $c^{n}_{i}$: Is the unit cost for node ${i}$, $\\forall i \\in N$\n",
    "\n",
    "* $\\gamma^{n}_{i}$: Is the initial amount in the network for node ${i}$, $\\forall i \\in S \\subset N$\n",
    "\n",
    "\n",
    "#### Arc's parameters\n",
    "\n",
    "* $l^{a}_{i,j}$: Is the lower storing capacity for arc ${(i,j)}$, $\\forall (i,j) \\in A$\n",
    "\n",
    "* $u^{a}_{i,j}$: Is the upper storing capacity for arc ${(i,j)}$, $\\forall (i,j) \\in A$\n",
    "\n",
    "* $c^{a}_{i,j}$: Is the unit transportation cost from node ${i}$ to node ${j}$, $\\forall (i,j) \\in A$\n",
    "\n",
    "## Decision variables\n",
    "\n",
    "#### Node's decisions\n",
    "\n",
    "* $\\tau^{n}_{i}$: Is the amount to be stored in the node ${i}$, $\\forall i \\in N$\n",
    "\n",
    "#### Arc's decisions\n",
    "\n",
    "* $\\upsilon^{a}_{i,j}$: Is the amount to be send from node ${i}$ to node ${j}$, $\\forall (i,j) \\in A$\n"
   ]
  }
 ],
 "metadata": {
  "language_info": {
   "name": "python"
  },
  "orig_nbformat": 4
 },
 "nbformat": 4,
 "nbformat_minor": 2
}
