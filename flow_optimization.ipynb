{
 "cells": [
  {
   "cell_type": "markdown",
   "metadata": {},
   "source": [
    "# Network flow optimization model\n",
    "\n",
    "## Sets & Subsets\n",
    "* $T$: Set of time periods, i $\\in$ {0,1,…,T} \n",
    "\n",
    "* $N$: Set of nodes in the network, i $\\in$ {0,1,…,N} \n",
    "\n",
    "* $A$: Set of arcs in the network, k $\\in$ {0,1,…,A}\n",
    "\n",
    "* $S$ $\\subset N$: Subset of nodes that represent the beginning of the network (source), s $\\in$ {0,1,…,S}\n",
    "\n",
    "* $Z$ $\\subset N$: Subset of nodes that represent the end of the network (sink), z $\\in$ {0,1,…,Z}\n",
    "\n",
    "## Parameters\n",
    "\n",
    "#### Node's parameters\n",
    "\n",
    "* $l^{n}_{i}$: Is the lower storing capacity for node ${i}$, $\\forall i \\in N$\n",
    "\n",
    "* $u^{n}_{i}$: Is the upper storing capacity for node ${i}$, $\\forall i \\in N$\n",
    "\n",
    "* $c^{n}_{i}$: Is the unit cost for node ${i}$, $\\forall i \\in N$\n",
    "\n",
    "* $\\gamma^{n}_{i}$: Is the initial amount in the network for node ${i}$, $\\forall i \\in S \\subset N$\n",
    "\n",
    "\n",
    "#### Arc's parameters\n",
    "\n",
    "* $l^{a}_{i,j}$: Is the lower storing capacity for arc ${(i,j)}$, $\\forall (i,j) \\in A$\n",
    "\n",
    "* $u^{a}_{i,j}$: Is the upper storing capacity for arc ${(i,j)}$, $\\forall (i,j) \\in A$\n",
    "\n",
    "* $c^{a}_{i,j}$: Is the unit transportation cost from node ${i}$ to node ${j}$, $\\forall (i,j) \\in A$\n",
    "\n",
    "## Decision variables\n",
    "\n",
    "#### Node's decisions\n",
    "\n",
    "* $\\beta^{n}_{i}$: Is the amount to be stored in the node ${i}$, $\\forall i \\in N$\n",
    "\n",
    "#### Arc's decisions\n",
    "\n",
    "* $\\alpha^{a}_{i,j}$: Is the amount to be send from node ${i}$ to node ${j}$, $\\forall (i,j) \\in A$\n",
    "\n",
    "## Objective function \n",
    "**Maximize total flow and minimize network costs**\n",
    "\n",
    "$$ \\ Min\\space \\ Z = \\sum_{i \\in N} c^{n}_{i}*\\beta^{n}_{i} + \\sum_{(i,j) \\in A} c^{a}_{i,j}*\\alpha^{a}_{i,j} $$\n",
    "\n",
    "$$ \\ Max\\space \\ Z = \\sum_{(i,j) \\in A} \\alpha^{a}_{i,j} $$\n",
    "\n",
    "## Constraints\n",
    "\n",
    "#### Node's capacity\n",
    "$$ l^{n}_{i} \\leq  \\beta^{n}_{i} \\leq u^{n}_{i}, \\forall i \\in N $$\n",
    "\n",
    "#### Arc's capacity\n",
    "$$ l^{a}_{i,j} \\leq  \\alpha^{a}_{i,j} \\leq u^{a}_{i,j}, \\forall (i,j) \\in A $$\n",
    "\n",
    "#### Flow balancing equations\n",
    "Flow balancing (except for initial and ending nodes):\n",
    "$$ \\sum_{(i,j) \\in A} \\alpha^{a}_{i,j} - \\sum_{(j,k) \\in A} \\alpha^{a}_{j,k} = \\beta^{n}_{j}, \\forall j \\in N - S \\cup Z  $$\n",
    "Initial nodes flow balance:\n",
    "$$ \\sum_{(s,j) \\in A} \\alpha^{a}_{s,j} + \\beta^{n}_{s} = \\gamma^{n}_{s}, \\forall s \\in S \\subset N$$\n",
    "Ending nodes flow balance:\n",
    "$$ \\sum_{(i,z) \\in A} \\alpha^{a}_{i,z} = \\beta^{n}_{z}, \\forall z \\in Z \\subset N$$\n",
    "\n",
    "### Nonnegative constraints\n",
    "$$ \\alpha^{a}_{i,j} \\geq 0, \\forall (i,j) \\in A $$\n",
    "$$ \\beta^{n}_{i} \\geq 0, \\forall i \\in N $$\n"
   ]
  },
  {
   "cell_type": "code",
   "execution_count": 1,
   "metadata": {},
   "outputs": [],
   "source": [
    "import numpy as np \n",
    "import pandas as pd\n",
    "import os\n",
    "import pyomo.environ as pe\n",
    "from collections import defaultdict\n",
    "import itertools\n",
    "import networkx as nx\n",
    "import matplotlib.pyplot as plt"
   ]
  },
  {
   "cell_type": "code",
   "execution_count": 2,
   "metadata": {},
   "outputs": [],
   "source": [
    "URL_cf_path = 'https://github.com/joaquinrovi/Optimization/blob/master/conf_file.xlsx?raw=true'"
   ]
  },
  {
   "cell_type": "code",
   "execution_count": 3,
   "metadata": {},
   "outputs": [],
   "source": [
    "#Read arc's raw data from the configuration file\n",
    "arcs_raw_data = pd.read_excel(URL_cf_path, sheet_name='Arcs')\n",
    "#Read node's raw data from the configuration file\n",
    "initial_nodes_raw_data = pd.read_excel(URL_cf_path, sheet_name='Node_start')\n",
    "ending_nodes_raw_data = pd.read_excel(URL_cf_path, sheet_name='Node_end')\n",
    "nodes_raw_data = pd.read_excel(URL_cf_path, sheet_name='Nodes')"
   ]
  },
  {
   "cell_type": "code",
   "execution_count": 4,
   "metadata": {},
   "outputs": [],
   "source": [
    "columns = ['Node', 'Min_Cap', 'Max_Cap', 'Cost_node', 'Active']\n",
    "df = [initial_nodes_raw_data[columns],\n",
    "    ending_nodes_raw_data[columns],\n",
    "    nodes_raw_data[columns]]\n",
    "nodes_data = pd.concat(df)"
   ]
  },
  {
   "cell_type": "code",
   "execution_count": 5,
   "metadata": {},
   "outputs": [
    {
     "name": "stderr",
     "output_type": "stream",
     "text": [
      "C:\\Users\\JRODRI~1.VIL\\AppData\\Local\\Temp/ipykernel_12184/3900381228.py:1: FutureWarning: In a future version of pandas all arguments of DataFrame.drop except for the argument 'labels' will be keyword-only\n",
      "  arcs_data = pd.merge(left=arcs_raw_data,\\\n"
     ]
    }
   ],
   "source": [
    "arcs_data = pd.merge(left=arcs_raw_data,\\\n",
    "    right=nodes_data[['Node','Cost_node']],\\\n",
    "    left_on='Node_end',\\\n",
    "    right_on='Node',\\\n",
    "    how='left').drop('Node',1)"
   ]
  },
  {
   "cell_type": "code",
   "execution_count": 6,
   "metadata": {},
   "outputs": [
    {
     "name": "stderr",
     "output_type": "stream",
     "text": [
      "C:\\Users\\JRODRI~1.VIL\\AppData\\Local\\Temp/ipykernel_12184/2693748716.py:2: FutureWarning: In a future version of pandas all arguments of DataFrame.drop except for the argument 'labels' will be keyword-only\n",
      "  arcs_data= arcs_data[arcs_data['Active']==\"Y\"].drop('Active', 1)\n",
      "C:\\Users\\JRODRI~1.VIL\\AppData\\Local\\Temp/ipykernel_12184/2693748716.py:5: FutureWarning: In a future version of pandas all arguments of DataFrame.drop except for the argument 'labels' will be keyword-only\n",
      "  nodes_data = nodes_data[nodes_data['Active']==\"Y\"].drop('Active',1)\n",
      "C:\\Users\\JRODRI~1.VIL\\AppData\\Local\\Temp/ipykernel_12184/2693748716.py:8: FutureWarning: In a future version of pandas all arguments of DataFrame.drop except for the argument 'labels' will be keyword-only\n",
      "  initial_nodes_data = initial_nodes_raw_data[initial_nodes_raw_data['Active']==\"Y\"].drop('Active',1)\n",
      "C:\\Users\\JRODRI~1.VIL\\AppData\\Local\\Temp/ipykernel_12184/2693748716.py:11: FutureWarning: In a future version of pandas all arguments of DataFrame.drop except for the argument 'labels' will be keyword-only\n",
      "  ending_nodes_data = ending_nodes_raw_data[ending_nodes_raw_data['Active']==\"Y\"].drop('Active',1)\n"
     ]
    }
   ],
   "source": [
    "#Cleaning arcs\n",
    "arcs_data= arcs_data[arcs_data['Active']==\"Y\"].drop('Active', 1)\n",
    "arcs_data= arcs_data.drop_duplicates().set_index(['Node_start', 'Node_end'])\n",
    "#Cleaning nodes\n",
    "nodes_data = nodes_data[nodes_data['Active']==\"Y\"].drop('Active',1)\n",
    "nodes_data = nodes_data.drop_duplicates().set_index('Node')\n",
    "\n",
    "initial_nodes_data = initial_nodes_raw_data[initial_nodes_raw_data['Active']==\"Y\"].drop('Active',1)\n",
    "initial_nodes_data = initial_nodes_data.drop_duplicates().set_index('Node')\n",
    "\n",
    "ending_nodes_data = ending_nodes_raw_data[ending_nodes_raw_data['Active']==\"Y\"].drop('Active',1)\n",
    "ending_nodes_data = ending_nodes_data.drop_duplicates().set_index('Node')"
   ]
  },
  {
   "cell_type": "markdown",
   "metadata": {},
   "source": [
    "# Define dictionaries and lists"
   ]
  },
  {
   "cell_type": "code",
   "execution_count": 7,
   "metadata": {},
   "outputs": [],
   "source": [
    "nodes = set(nodes_data.index)\n",
    "initial_nodes = set(initial_nodes_data.index)\n",
    "ending_nodes = set(ending_nodes_data.index)\n",
    "arcs = set(arcs_data.index)\n",
    "exits = defaultdict(set)\n",
    "entry = defaultdict(set)\n",
    "\n",
    "for (i,j) in set(arcs_data.index):\n",
    "    exits[i].add(j)\n",
    "    entry[j].add(i)"
   ]
  },
  {
   "cell_type": "markdown",
   "metadata": {},
   "source": [
    "# Optimization model\n",
    "## Sets & subsets"
   ]
  },
  {
   "cell_type": "code",
   "execution_count": 8,
   "metadata": {},
   "outputs": [
    {
     "name": "stdout",
     "output_type": "stream",
     "text": [
      "WARNING: Initializing ordered Set nodes with a fundamentally unordered data\n",
      "    source (type: set).  This WILL potentially lead to nondeterministic\n",
      "    behavior in Pyomo\n",
      "WARNING: Initializing ordered Set initial with a fundamentally unordered data\n",
      "    source (type: set).  This WILL potentially lead to nondeterministic\n",
      "    behavior in Pyomo\n",
      "WARNING: Initializing ordered Set ending with a fundamentally unordered data\n",
      "    source (type: set).  This WILL potentially lead to nondeterministic\n",
      "    behavior in Pyomo\n"
     ]
    }
   ],
   "source": [
    "model = pe.ConcreteModel('Network_flow')\n",
    "#Nodes\n",
    "model.nodes = pe.Set(initialize = nodes)\n",
    "model.initial = pe.Set(within = model.nodes, initialize = initial_nodes)\n",
    "model.ending = pe.Set(within = model.nodes, initialize = ending_nodes)\n",
    "#Arcs\n",
    "model.arcs = pe.Set(within = model.nodes * model.nodes, initialize = arcs)\n",
    "model.entry = pe.Param(model.nodes, initialize = entry, default=set(), within=pe.Any)\n",
    "model.exit = pe.Param(model.nodes, initialize = exits, default=set(), within=pe.Any)"
   ]
  },
  {
   "cell_type": "markdown",
   "metadata": {},
   "source": [
    "## Parameters"
   ]
  },
  {
   "cell_type": "code",
   "execution_count": 9,
   "metadata": {},
   "outputs": [],
   "source": [
    "#Nodes\n",
    "model.max_capacity = pe.Param(model.nodes, initialize = nodes_data['Max_Cap'].to_dict())\n",
    "model.min_capacity = pe.Param(model.nodes, initialize = nodes_data['Min_Cap'].to_dict())\n",
    "model.node_costs = pe.Param(model.nodes, initialize = nodes_data['Cost_node'].to_dict())\n",
    "model.flow_in = pe.Param(model.initial, initialize = initial_nodes_data[\"Initial\"].to_dict())\n",
    "#Arcs\n",
    "model.max_flow = pe.Param(model.arcs, initialize = arcs_data[\"Max_flow\"].to_dict())\n",
    "model.min_flow = pe.Param(model.arcs, initialize = arcs_data[\"Min_flow\"].to_dict())\n",
    "model.arc_costs = pe.Param(model.arcs, initialize = arcs_data[\"Cost_arc\"].to_dict())"
   ]
  },
  {
   "cell_type": "markdown",
   "metadata": {},
   "source": [
    "## Decision variables"
   ]
  },
  {
   "cell_type": "code",
   "execution_count": 10,
   "metadata": {},
   "outputs": [],
   "source": [
    "#Node's decisions\n",
    "model.beta = pe.Var(model.nodes, domain = pe.NonNegativeReals)\n",
    "#Arc's decisions\n",
    "model.alpha = pe.Var(model.arcs, domain = pe.NonNegativeReals)"
   ]
  },
  {
   "cell_type": "markdown",
   "metadata": {},
   "source": [
    "## Objetive functions (cost and flow)"
   ]
  },
  {
   "cell_type": "code",
   "execution_count": 17,
   "metadata": {},
   "outputs": [
    {
     "name": "stdout",
     "output_type": "stream",
     "text": [
      "WARNING: Implicitly replacing the Component attribute obj_function_cost\n",
      "    (type=<class 'pyomo.core.base.objective.ScalarObjective'>) on block\n",
      "    Network_flow with a new Component (type=<class\n",
      "    'pyomo.core.base.objective.ScalarObjective'>). This is usually indicative\n",
      "    of a modelling error. To avoid this warning, use block.del_component() and\n",
      "    block.add_component().\n",
      "WARNING: Implicitly replacing the Component attribute obj_function_flow\n",
      "    (type=<class 'pyomo.core.base.objective.ScalarObjective'>) on block\n",
      "    Network_flow with a new Component (type=<class\n",
      "    'pyomo.core.base.objective.ScalarObjective'>). This is usually indicative\n",
      "    of a modelling error. To avoid this warning, use block.del_component() and\n",
      "    block.add_component().\n"
     ]
    }
   ],
   "source": [
    "def min_cost(model):\n",
    "    node_costs = sum(model.beta[i] * model.node_costs[i] for i in model.nodes)\n",
    "    arc_costs = sum(model.alpha[i,j] * model.arc_costs[i,j] for (i,j) in model.arcs)\n",
    "    return node_costs + arc_costs\n",
    "model.obj_function_cost = pe.Objective(sense = pe.minimize, rule = min_cost)\n",
    "model.obj_function_cost.deactivate()\n",
    "def max_flow(model):\n",
    "    max_flow = sum(model.alpha[i,j] for (i,j) in model.arcs if j not in list(model.ending))    \n",
    "    return max_flow   \n",
    "model.obj_function_flow = pe.Objective(sense = pe.maximize, rule = max_flow)\n",
    "#model.obj_function_flow.deactivate()"
   ]
  },
  {
   "cell_type": "markdown",
   "metadata": {},
   "source": [
    "## Constraints"
   ]
  },
  {
   "cell_type": "code",
   "execution_count": 18,
   "metadata": {},
   "outputs": [
    {
     "name": "stdout",
     "output_type": "stream",
     "text": [
      "WARNING: Implicitly replacing the Component attribute capacity_arc\n",
      "    (type=<class 'pyomo.core.base.constraint.IndexedConstraint'>) on block\n",
      "    Network_flow with a new Component (type=<class\n",
      "    'pyomo.core.base.constraint.IndexedConstraint'>). This is usually\n",
      "    indicative of a modelling error. To avoid this warning, use\n",
      "    block.del_component() and block.add_component().\n",
      "WARNING: Implicitly replacing the Component attribute capacity_node\n",
      "    (type=<class 'pyomo.core.base.constraint.IndexedConstraint'>) on block\n",
      "    Network_flow with a new Component (type=<class\n",
      "    'pyomo.core.base.constraint.IndexedConstraint'>). This is usually\n",
      "    indicative of a modelling error. To avoid this warning, use\n",
      "    block.del_component() and block.add_component().\n",
      "WARNING: Implicitly replacing the Component attribute flow_balance\n",
      "    (type=<class 'pyomo.core.base.constraint.IndexedConstraint'>) on block\n",
      "    Network_flow with a new Component (type=<class\n",
      "    'pyomo.core.base.constraint.IndexedConstraint'>). This is usually\n",
      "    indicative of a modelling error. To avoid this warning, use\n",
      "    block.del_component() and block.add_component().\n"
     ]
    }
   ],
   "source": [
    "# Arc's capacity\n",
    "def limit_arc(model, i, j):\n",
    "        return (model.min_flow[i,j], model.alpha[i,j], model.max_flow[i,j])\n",
    "model.capacity_arc = pe.Constraint(model.arcs, rule = limit_arc)\n",
    "\n",
    "# Node's capacity\n",
    "def limit_node(model, i):\n",
    "    return (model.min_capacity[i], model.beta[i], model.max_capacity[i])\n",
    "model.capacity_node = pe.Constraint(model.nodes, rule = limit_node)\n",
    "\n",
    "# Flow balancing\n",
    "def flow_balance(model, i):\n",
    "    flow_in  = sum([model.alpha[j,i] for j in model.entry[i]])\n",
    "    flow_out = sum([model.alpha[i,j] for j in model.exit[i]])    \n",
    "    \n",
    "    if i in list(model.initial):\n",
    "        flow_in = model.flow_in[i] \n",
    "        return flow_in - flow_out == model.beta[i] \n",
    "    \n",
    "    #Enforce to skip the balance for the flow at the end\n",
    "    elif i in list(model.ending):\n",
    "        return flow_in == model.beta[i] \n",
    "    \n",
    "    else:\n",
    "        constraint = (flow_in - flow_out == model.beta[i])\n",
    "    return constraint   \n",
    "\n",
    "model.flow_balance = pe.Constraint(model.nodes, rule = flow_balance)"
   ]
  },
  {
   "cell_type": "markdown",
   "metadata": {},
   "source": [
    "## Solver"
   ]
  },
  {
   "cell_type": "code",
   "execution_count": 19,
   "metadata": {},
   "outputs": [
    {
     "name": "stdout",
     "output_type": "stream",
     "text": [
      "GLPSOL--GLPK LP/MIP Solver 5.0\n",
      "Parameter(s) specified in the command line:\n",
      " --write C:\\Users\\JRODRI~1.VIL\\AppData\\Local\\Temp\\tmp4lkh3e90.glpk.raw --wglp\n",
      " C:\\Users\\JRODRI~1.VIL\\AppData\\Local\\Temp\\tmplkvlbuge.glpk.glp --cpxlp C:\\Users\\JRODRI~1.VIL\\AppData\\Local\\Temp\\tmp0lxci20t.pyomo.lp\n",
      "Reading problem data from 'C:\\Users\\JRODRI~1.VIL\\AppData\\Local\\Temp\\tmp0lxci20t.pyomo.lp'...\n",
      "45 rows, 19 columns, 65 non-zeros\n",
      "234 lines were read\n",
      "Writing problem data to 'C:\\Users\\JRODRI~1.VIL\\AppData\\Local\\Temp\\tmplkvlbuge.glpk.glp'...\n",
      "178 lines were written\n",
      "GLPK Simplex Optimizer 5.0\n",
      "45 rows, 19 columns, 65 non-zeros\n",
      "Preprocessing...\n",
      "6 rows, 10 columns, 15 non-zeros\n",
      "Scaling...\n",
      " A: min|aij| =  1.000e+00  max|aij| =  1.000e+00  ratio =  1.000e+00\n",
      "Problem data seem to be well scaled\n",
      "Constructing initial basis...\n",
      "Size of triangular part is 6\n",
      "*     0: obj =  -0.000000000e+00 inf =   0.000e+00 (8)\n",
      "*    11: obj =   1.630000000e+02 inf =   0.000e+00 (0)\n",
      "OPTIMAL LP SOLUTION FOUND\n",
      "Time used:   0.0 secs\n",
      "Memory used: 0.1 Mb (56524 bytes)\n",
      "Writing basic solution to 'C:\\Users\\JRODRI~1.VIL\\AppData\\Local\\Temp\\tmp4lkh3e90.glpk.raw'...\n",
      "73 lines were written\n"
     ]
    },
    {
     "data": {
      "text/plain": [
       "163.0"
      ]
     },
     "execution_count": 19,
     "metadata": {},
     "output_type": "execute_result"
    }
   ],
   "source": [
    "solver = pe.SolverFactory('glpk')\n",
    "results = solver.solve(model, tee = True)\n",
    "#pe.value(model.obj_function_cost)\n",
    "pe.value(model.obj_function_flow)"
   ]
  },
  {
   "cell_type": "code",
   "execution_count": 20,
   "metadata": {},
   "outputs": [
    {
     "name": "stdout",
     "output_type": "stream",
     "text": [
      "alpha : Size=10, Index=arcs\n",
      "    Key        : Lower : Value : Upper : Fixed : Stale : Domain\n",
      "    ('A', 'B') :     0 :  12.0 :  None : False : False : NonNegativeReals\n",
      "    ('A', 'C') :     0 :  35.0 :  None : False : False : NonNegativeReals\n",
      "    ('A', 'D') :     0 :  33.0 :  None : False : False : NonNegativeReals\n",
      "    ('B', 'E') :     0 :  10.0 :  None : False : False : NonNegativeReals\n",
      "    ('C', 'E') :     0 :  24.0 :  None : False : False : NonNegativeReals\n",
      "    ('D', 'F') :     0 :  19.0 :  None : False : False : NonNegativeReals\n",
      "    ('E', 'F') :     0 :  13.0 :  None : False : False : NonNegativeReals\n",
      "    ('E', 'G') :     0 :  17.0 :  None : False : False : NonNegativeReals\n",
      "    ('F', 'H') :     0 :   0.0 :  None : False : False : NonNegativeReals\n",
      "    ('G', 'H') :     0 :   0.0 :  None : False : False : NonNegativeReals\n"
     ]
    }
   ],
   "source": [
    "model.alpha.pprint()"
   ]
  },
  {
   "cell_type": "code",
   "execution_count": 21,
   "metadata": {},
   "outputs": [
    {
     "name": "stdout",
     "output_type": "stream",
     "text": [
      "beta : Size=8, Index=nodes\n",
      "    Key : Lower : Value : Upper : Fixed : Stale : Domain\n",
      "      A :     0 : 920.0 :  None : False : False : NonNegativeReals\n",
      "      B :     0 :   2.0 :  None : False : False : NonNegativeReals\n",
      "      C :     0 :  11.0 :  None : False : False : NonNegativeReals\n",
      "      D :     0 :  14.0 :  None : False : False : NonNegativeReals\n",
      "      E :     0 :   4.0 :  None : False : False : NonNegativeReals\n",
      "      F :     0 :  32.0 :  None : False : False : NonNegativeReals\n",
      "      G :     0 :  17.0 :  None : False : False : NonNegativeReals\n",
      "      H :     0 :  -0.0 :  None : False : False : NonNegativeReals\n"
     ]
    }
   ],
   "source": [
    "model.beta.pprint()"
   ]
  }
 ],
 "metadata": {
  "kernelspec": {
   "display_name": "Python 3.9.7 ('base')",
   "language": "python",
   "name": "python3"
  },
  "language_info": {
   "codemirror_mode": {
    "name": "ipython",
    "version": 3
   },
   "file_extension": ".py",
   "mimetype": "text/x-python",
   "name": "python",
   "nbconvert_exporter": "python",
   "pygments_lexer": "ipython3",
   "version": "3.9.7"
  },
  "orig_nbformat": 4,
  "vscode": {
   "interpreter": {
    "hash": "7433f52e6e7905b65c58d6b21451a0b3ff03627162b0d1d18b32706d2a7727cb"
   }
  }
 },
 "nbformat": 4,
 "nbformat_minor": 2
}
