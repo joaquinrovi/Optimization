{
 "cells": [
  {
   "cell_type": "markdown",
   "metadata": {},
   "source": [
    "# Network flow optimization model\n",
    "\n",
    "## Sets & Subsets\n",
    "\n",
    "* $N$: Set of nodes in the network, i $\\in$ {0,1,…,N} \n",
    "\n",
    "* $A$: Set of arcs in the network, k $\\in$ {0,1,…,A}\n",
    "\n",
    "* $S$ $\\subset N$: Subset of nodes that represent the beginning of the network (source), s $\\in$ {0,1,…,S}\n",
    "\n",
    "* $Z$ $\\subset N$: Subset of nodes that represent the end of the network (sink), z $\\in$ {0,1,…,Z}\n",
    "\n",
    "## Parameters\n",
    "\n",
    "#### Node's parameters\n",
    "\n",
    "* $l^{n}_{i}$: Is the lower storing capacity for node ${i}$, $\\forall i \\in N$\n",
    "\n",
    "* $u^{n}_{i}$: Is the upper storing capacity for node ${i}$, $\\forall i \\in N$\n",
    "\n",
    "* $c^{n}_{i}$: Is the unit cost for node ${i}$, $\\forall i \\in N$\n",
    "\n",
    "* $\\gamma^{n}_{i}$: Is the initial amount in the network for node ${i}$, $\\forall i \\in S \\subset N$\n",
    "\n",
    "\n",
    "#### Arc's parameters\n",
    "\n",
    "* $l^{a}_{i,j}$: Is the lower storing capacity for arc ${(i,j)}$, $\\forall (i,j) \\in A$\n",
    "\n",
    "* $u^{a}_{i,j}$: Is the upper storing capacity for arc ${(i,j)}$, $\\forall (i,j) \\in A$\n",
    "\n",
    "* $c^{a}_{i,j}$: Is the unit transportation cost from node ${i}$ to node ${j}$, $\\forall (i,j) \\in A$\n",
    "\n",
    "## Decision variables\n",
    "\n",
    "#### Node's decisions\n",
    "\n",
    "* $\\beta^{n}_{i}$: Is the amount to be stored in the node ${i}$, $\\forall i \\in N$\n",
    "\n",
    "#### Arc's decisions\n",
    "\n",
    "* $\\alpha^{a}_{i,j}$: Is the amount to be send from node ${i}$ to node ${j}$, $\\forall (i,j) \\in A$\n",
    "\n",
    "## Objective function \n",
    "**Maximize total flow and minimize network costs**\n",
    "\n",
    "$$ \\ Min\\space \\ Z = \\sum_{i \\in N} c^{n}_{i}*\\beta^{n}_{i} + \\sum_{(i,j) \\in A} c^{a}_{i,j}*\\alpha^{a}_{i,j} $$\n",
    "\n",
    "$$ \\ Max\\space \\ Z = \\sum_{(i,j) \\in A} \\alpha^{a}_{i,j} $$\n",
    "\n",
    "## Constraints\n",
    "\n",
    "#### Node's capacity\n",
    "$$ l^{n}_{i} \\leq  \\beta^{n}_{i} \\leq u^{n}_{i}, \\forall i \\in N $$\n",
    "\n",
    "#### Arc's capacity\n",
    "$$ l^{a}_{i,j} \\leq  \\alpha^{a}_{i,j} \\leq u^{a}_{i,j}, \\forall (i,j) \\in A $$\n",
    "\n",
    "#### Flow balancing equations\n",
    "Flow balancing (except for initial and ending nodes):\n",
    "$$ \\sum_{(i,j) \\in A} \\alpha^{a}_{i,j} - \\sum_{(j,k) \\in A} \\alpha^{a}_{j,k} = \\beta^{n}_{j}, \\forall j \\in N - S \\cup Z  $$\n",
    "Initial nodes flow balance:\n",
    "$$ \\sum_{(s,j) \\in A} \\alpha^{a}_{s,j} + \\beta^{n}_{s} = \\gamma^{n}_{s}, \\forall s \\in S \\subset N$$\n",
    "Ending nodes flow balance:\n",
    "$$ \\sum_{(i,z) \\in A} \\alpha^{a}_{i,z} = \\beta^{n}_{z}, \\forall z \\in Z \\subset N$$\n",
    "\n",
    "### Nonnegative constraints\n",
    "$$ \\alpha^{a}_{i,j} \\geq 0, \\forall (i,j) \\in A $$\n",
    "$$ \\beta^{n}_{i} \\geq 0, \\forall i \\in N $$\n"
   ]
  }
 ],
 "metadata": {
  "kernelspec": {
   "display_name": "Python 3.9.7 ('base')",
   "language": "python",
   "name": "python3"
  },
  "language_info": {
   "name": "python",
   "version": "3.9.7"
  },
  "orig_nbformat": 4,
  "vscode": {
   "interpreter": {
    "hash": "7433f52e6e7905b65c58d6b21451a0b3ff03627162b0d1d18b32706d2a7727cb"
   }
  }
 },
 "nbformat": 4,
 "nbformat_minor": 2
}
